{
 "cells": [
  {
   "cell_type": "code",
   "execution_count": null,
   "metadata": {
    "collapsed": true
   },
   "outputs": [],
   "source": [
    "import numpy as np\n",
    "import pandas as pd\n",
    "\n",
    "%matplotlib inline\n",
    "import matplotlib.pyplot as plt\n",
    "\n",
    "import vpfits\n",
    "\n",
    "from scipy.ndimage.filters import gaussian_filter\n",
    "from scipy.signal import argrelextrema\n",
    "\n",
    "import pymc as mc\n",
    "from pymc.Matplot import plot\n",
    "from scipy import stats\n",
    "import time"
   ]
  },
  {
   "cell_type": "code",
   "execution_count": null,
   "metadata": {
    "collapsed": true
   },
   "outputs": [],
   "source": [
    "cont = np.loadtxt('data/q1422.cont')\n",
    "vpfit = vpfits.VPfit()\n",
    "onesigmaerror = 0.02"
   ]
  },
  {
   "cell_type": "code",
   "execution_count": null,
   "metadata": {},
   "outputs": [],
   "source": [
    "min_region_width = 2\n",
    "regions = vpfits.compute_detection_regions(cont[:,0], cont[:,2], cont[:,3], \n",
    "                                          min_region_width=min_region_width)\n",
    "\n",
    "region_arrays = []\n",
    "region_pixels = []\n",
    "for region in regions:\n",
    "    start = np.where(cont[:,0] == region[0])[0][0]\n",
    "    end = np.where(cont[:,0] == region[1])[0][0]\n",
    "    region_pixels.append([start, end])\n",
    "    region_arrays.append([cont[:,0][start:end], cont[:,2][start:end], cont[:,3][start:end]])"
   ]
  },
  {
   "cell_type": "code",
   "execution_count": null,
   "metadata": {
    "collapsed": true
   },
   "outputs": [],
   "source": [
    "bpic = []\n",
    "chi2 = []\n",
    "count = 0\n",
    "i=2\n",
    "wavelengths = region_arrays[i][0]\n",
    "fluxes_orig = region_arrays[i][1]\n",
    "fluxes = region_arrays[i][1]\n",
    "noise = region_arrays[i][2]\n",
    "\n",
    "r = 0\n",
    "n = argrelextrema(gaussian_filter(fluxes_orig, 3), np.less)[0].shape[0]\n",
    "if n < 4:\n",
    "    n = 1\n",
    "\n",
    "iterations = 5000\n",
    "n_runs = 4\n",
    "n_max = 3\n",
    "bpic = []\n",
    "chi2 = []\n",
    "bpic_list = []\n",
    "parameter_mesh = np.array(np.meshgrid([1e-3, 1e-5, 1e-7],\n",
    "                                      [2, 6 ,10],\n",
    "                                      [1e-3, 1e-5, 1e-7],\n",
    "                                      [2, 6, 10],\n",
    "                                      [1e-3, 1e-5, 1e-7])).T.reshape(3**5, 5)\n",
    "labels = [\"f{}, m{}, f{}, m{}, f{}\".format(item[0], item[1], item[2], item[3], item[4]) for item in parameter_mesh]"
   ]
  },
  {
   "cell_type": "code",
   "execution_count": null,
   "metadata": {},
   "outputs": [],
   "source": [
    "t = time.time()\n",
    "for j, i in enumerate(parameter_mesh):\n",
    "    j *= 1.\n",
    "    bpic = []\n",
    "    chi2 = []\n",
    "    n = 1\n",
    "    for asda in range(n, n + n_max):\n",
    "        n += 1\n",
    "        for run in range(n_runs):\n",
    "            vpfit_2 = vpfits.VPfit()\n",
    "            vpfit_2.initialise_model(wavelengths, fluxes, n)\n",
    "            vpfit_2.map = mc.MAP(vpfit_2.model)\n",
    "            vpfit_2.mcmc = mc.MCMC(vpfit_2.model)\n",
    "\n",
    "            vpfit_2.map.fit(iterlim=iterations, tol=i[0])\n",
    "            vpfit_2.mcmc.sample(iter=i[1]*1e3, burn=1000, thin=15, progress_bar=False)\n",
    "            vpfit_2.map.fit(iterlim=iterations, tol=i[2])\n",
    "            vpfit_2.mcmc.sample(iter=i[3]*1e3, burn=1000, thin=15, progress_bar=False)\n",
    "            vpfit_2.map.fit(iterlim=iterations, tol=i[4])\n",
    "            bpic.append((n, vpfit_2.map.BIC))\n",
    "            del vpfit_2\n",
    "    bpic_list.append(bpic)\n",
    "    print \"Time taken: {}s\".format(int(time.time() - t))\n",
    "    print \"Time to finish: {}s\".format(int((time.time() - t)/((j+1)/3**5)))"
   ]
  },
  {
   "cell_type": "code",
   "execution_count": null,
   "metadata": {},
   "outputs": [],
   "source": [
    "plt.xlabel(\"run number\")\n",
    "plt.ylabel(\"BIC\")\n",
    "xmax = 5\n",
    "plt.xticks(range(xmax))\n",
    "plt.xlim((1, xmax))\n",
    "plt.grid(True)\n",
    "for i, bpic in enumerate(bpic_list):\n",
    "    bpic = np.array(bpic)\n",
    "    plt.plot(range(2, xmax+2), stats.binned_statistic(bpic[:, 0], bpic[:, 1], bins=np.arange(1.5, xmax+.5+2, 1), statistic=\"median\")[0])\n",
    "    plt.scatter(bpic[:, 0], bpic[:, 1], label=labels[i])\n",
    "plt.legend(bbox_to_anchor=(1.05, 1), loc=2, borderaxespad=0.)"
   ]
  },
  {
   "cell_type": "code",
   "execution_count": null,
   "metadata": {},
   "outputs": [],
   "source": [
    "print '{:.2f}'.format(np.pi)"
   ]
  },
  {
   "cell_type": "code",
   "execution_count": null,
   "metadata": {
    "collapsed": true
   },
   "outputs": [],
   "source": []
  }
 ],
 "metadata": {
  "kernelspec": {
   "display_name": "Python 2",
   "language": "python",
   "name": "python2"
  },
  "language_info": {
   "codemirror_mode": {
    "name": "ipython",
    "version": 2
   },
   "file_extension": ".py",
   "mimetype": "text/x-python",
   "name": "python",
   "nbconvert_exporter": "python",
   "pygments_lexer": "ipython2",
   "version": "2.7.13"
  }
 },
 "nbformat": 4,
 "nbformat_minor": 2
}
