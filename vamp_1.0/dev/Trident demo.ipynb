{
 "cells": [
  {
   "cell_type": "code",
   "execution_count": 54,
   "metadata": {
    "collapsed": true
   },
   "outputs": [],
   "source": [
    "import yt\n",
    "import trident as tri\n",
    "\n",
    "import numpy as np\n",
    "\n",
    "%matplotlib inline\n",
    "import matplotlib.pyplot as plt"
   ]
  },
  {
   "cell_type": "code",
   "execution_count": 55,
   "metadata": {
    "collapsed": false
   },
   "outputs": [
    {
     "name": "stderr",
     "output_type": "stream",
     "text": [
      "yt : [INFO     ] 2016-10-17 14:05:58,786 Parameters: current_time              = 0.0\n",
      "yt : [INFO     ] 2016-10-17 14:05:58,788 Parameters: domain_dimensions         = [2 2 2]\n",
      "yt : [INFO     ] 2016-10-17 14:05:58,792 Parameters: domain_left_edge          = [ 0.  0.  0.]\n",
      "yt : [INFO     ] 2016-10-17 14:05:58,794 Parameters: domain_right_edge         = [  9.87416826e+23   9.87416826e+23   9.87416826e+23]\n",
      "yt : [INFO     ] 2016-10-17 14:05:58,797 Parameters: cosmological_simulation   = 1\n",
      "yt : [INFO     ] 2016-10-17 14:05:58,799 Parameters: current_redshift          = 0.0\n",
      "yt : [INFO     ] 2016-10-17 14:05:58,801 Parameters: omega_lambda              = 0.0\n",
      "yt : [INFO     ] 2016-10-17 14:05:58,802 Parameters: omega_matter              = 1.0\n",
      "yt : [INFO     ] 2016-10-17 14:05:58,804 Parameters: hubble_constant           = 0.01\n"
     ]
    }
   ],
   "source": [
    "ray = yt.load(\"ramses_ray.h5\")"
   ]
  },
  {
   "cell_type": "code",
   "execution_count": 76,
   "metadata": {
    "collapsed": false
   },
   "outputs": [
    {
     "name": "stderr",
     "output_type": "stream",
     "text": [
      "yt : [INFO     ] 2016-10-17 14:27:28,911 Setting instrument to Custom\n"
     ]
    }
   ],
   "source": [
    "sg = tri.SpectrumGenerator(lambda_min=1332, lambda_max=1336, dlambda=0.01)"
   ]
  },
  {
   "cell_type": "code",
   "execution_count": 77,
   "metadata": {
    "collapsed": false
   },
   "outputs": [
    {
     "name": "stderr",
     "output_type": "stream",
     "text": [
      "Adding line - CI 1657 [1656.929000 A]: : 100%|██████████| 178/178 [00:00<00:00, 726.12it/s]\n",
      "Adding line - CI 1560 [1560.309000 A]: : 100%|██████████| 178/178 [00:00<00:00, 1472.03it/s]\n",
      "Adding line - CI 1329 [1328.834000 A]: : 100%|██████████| 178/178 [00:00<00:00, 1585.18it/s]\n",
      "Adding line - CI 1280 [1280.135000 A]: : 100%|██████████| 178/178 [00:00<00:00, 1821.14it/s]\n",
      "Adding line - CI 1277 [1277.245000 A]: : 100%|██████████| 178/178 [00:00<00:00, 1338.38it/s]\n",
      "Adding line - CI 1261 [1260.735000 A]: : 100%|██████████| 178/178 [00:00<00:00, 1670.09it/s]\n",
      "Adding line - CI 1194 [1193.995000 A]: : 100%|██████████| 178/178 [00:00<00:00, 2059.45it/s]\n",
      "Adding line - CI 1193 [1193.031000 A]: : 100%|██████████| 178/178 [00:00<00:00, 2024.80it/s]\n",
      "Adding line - CI 1189 [1188.833000 A]: : 100%|██████████| 178/178 [00:00<00:00, 2144.84it/s]\n",
      "Adding line - CI 1158 [1157.910000 A]: : 100%|██████████| 178/178 [00:00<00:00, 2089.37it/s]\n",
      "Adding line - C II* 1336 [1335.663000 A]: : 100%|██████████| 178/178 [00:00<00:00, 1450.77it/s]\n",
      "Adding line - CII 1335 [1334.532000 A]: : 100%|██████████| 178/178 [00:00<00:00, 691.78it/s]\n",
      "Adding line - C II* 1037 [1037.018000 A]: : 100%|██████████| 178/178 [00:00<00:00, 565.40it/s]\n",
      "Adding line - CII 1036 [1036.337000 A]: : 100%|██████████| 178/178 [00:00<00:00, 754.17it/s]\n",
      "Adding line - CII 904 [903.962000 A]: : 100%|██████████| 178/178 [00:00<00:00, 456.53it/s]\n",
      "Adding line - CIII 977 [977.020000 A]: : 100%|██████████| 178/178 [00:00<00:00, 1348.31it/s]\n",
      "Adding line - CIV 1551 [1550.772000 A]: : 100%|██████████| 178/178 [00:00<00:00, 3264.79it/s]\n",
      "Adding line - CIV 1548 [1548.187000 A]: : 100%|██████████| 178/178 [00:00<00:00, 3320.27it/s]\n"
     ]
    }
   ],
   "source": [
    "sg.make_spectrum(ray, lines=[\"C\"])"
   ]
  },
  {
   "cell_type": "code",
   "execution_count": 78,
   "metadata": {
    "collapsed": false
   },
   "outputs": [
    {
     "data": {
      "text/plain": [
       "(0, 1.05)"
      ]
     },
     "execution_count": 78,
     "metadata": {},
     "output_type": "execute_result"
    },
    {
     "data": {
      "image/png": "[encoded data removed]",
      "text/plain": [
       "<matplotlib.figure.Figure at 0x7fdfa82ec850>"
      ]
     },
     "metadata": {},
     "output_type": "display_data"
    }
   ],
   "source": [
    "fig, ax = plt.subplots()\n",
    "\n",
    "ax.plot(sg.lambda_field, sg.flux_field)\n",
    "\n",
    "ax.set_ylim(0,1.05)"
   ]
  },
  {
   "cell_type": "code",
   "execution_count": null,
   "metadata": {
    "collapsed": true
   },
   "outputs": [],
   "source": []
  },
  {
   "cell_type": "code",
   "execution_count": null,
   "metadata": {
    "collapsed": true
   },
   "outputs": [],
   "source": []
  }
 ],
 "metadata": {
  "kernelspec": {
   "display_name": "Python [cosmo]",
   "language": "python",
   "name": "Python [cosmo]"
  },
  "language_info": {
   "codemirror_mode": {
    "name": "ipython",
    "version": 2
   },
   "file_extension": ".py",
   "mimetype": "text/x-python",
   "name": "python",
   "nbconvert_exporter": "python",
   "pygments_lexer": "ipython2",
   "version": "2.7.12"
  }
 },
 "nbformat": 4,
 "nbformat_minor": 0
}
